{
 "cells": [
  {
   "cell_type": "markdown",
   "metadata": {},
   "source": [
    "# Train – English to Spanish Translation"
   ]
  },
  {
   "cell_type": "code",
   "execution_count": 1,
   "metadata": {},
   "outputs": [
    {
     "name": "stderr",
     "output_type": "stream",
     "text": [
      "/Users/spencerkarofsky/miniconda3/lib/python3.12/site-packages/tqdm/auto.py:21: TqdmWarning: IProgress not found. Please update jupyter and ipywidgets. See https://ipywidgets.readthedocs.io/en/stable/user_install.html\n",
      "  from .autonotebook import tqdm as notebook_tqdm\n"
     ]
    }
   ],
   "source": [
    "import sys\n",
    "import os\n",
    "\n",
    "project_root = os.path.abspath(os.path.join(os.getcwd(), \"..\"))\n",
    "sys.path.append(project_root)\n",
    "\n",
    "from data.data import EnglishToSpanish\n",
    "from transformer.models.transformer import Transformer\n",
    "from torch.utils.data import DataLoader\n",
    "import torch\n",
    "from tqdm import tqdm"
   ]
  },
  {
   "cell_type": "markdown",
   "metadata": {},
   "source": [
    "### Train"
   ]
  },
  {
   "cell_type": "code",
   "execution_count": 2,
   "metadata": {},
   "outputs": [
    {
     "name": "stderr",
     "output_type": "stream",
     "text": [
      "/Users/spencerkarofsky/miniconda3/lib/python3.12/site-packages/transformers/models/marian/tokenization_marian.py:177: UserWarning: Recommended: pip install sacremoses.\n",
      "  warnings.warn(\"Recommended: pip install sacremoses.\")\n"
     ]
    }
   ],
   "source": [
    "device = torch.device('mps' if torch.backends.mps.is_available() else 'cpu')\n",
    "\n",
    "from transformers import AutoTokenizer\n",
    "tokenizer = AutoTokenizer.from_pretrained('Helsinki-NLP/opus-mt-en-es')\n",
    "pad_token_id = tokenizer.pad_token_id\n"
   ]
  },
  {
   "cell_type": "code",
   "execution_count": 3,
   "metadata": {},
   "outputs": [],
   "source": [
    "train_dataset = EnglishToSpanish(split='train')\n",
    "train_loader = DataLoader(train_dataset, batch_size=32, shuffle=True)"
   ]
  },
  {
   "cell_type": "code",
   "execution_count": 4,
   "metadata": {},
   "outputs": [
    {
     "name": "stderr",
     "output_type": "stream",
     "text": [
      "                                                                       \r"
     ]
    },
    {
     "name": "stdout",
     "output_type": "stream",
     "text": [
      "Epoch 1 - Total Loss: 12999.4714\n"
     ]
    },
    {
     "name": "stderr",
     "output_type": "stream",
     "text": [
      "                                                                       \r"
     ]
    },
    {
     "name": "stdout",
     "output_type": "stream",
     "text": [
      "Epoch 2 - Total Loss: 10406.2217\n"
     ]
    },
    {
     "name": "stderr",
     "output_type": "stream",
     "text": [
      "                                                                       \r"
     ]
    },
    {
     "name": "stdout",
     "output_type": "stream",
     "text": [
      "Epoch 3 - Total Loss: 9529.5641\n"
     ]
    },
    {
     "name": "stderr",
     "output_type": "stream",
     "text": [
      "                                                                       \r"
     ]
    },
    {
     "name": "stdout",
     "output_type": "stream",
     "text": [
      "Epoch 4 - Total Loss: 8902.9232\n"
     ]
    },
    {
     "name": "stderr",
     "output_type": "stream",
     "text": [
      "                                                                       \r"
     ]
    },
    {
     "name": "stdout",
     "output_type": "stream",
     "text": [
      "Epoch 5 - Total Loss: 8368.5333\n"
     ]
    },
    {
     "name": "stderr",
     "output_type": "stream",
     "text": [
      "                                                                       \r"
     ]
    },
    {
     "name": "stdout",
     "output_type": "stream",
     "text": [
      "Epoch 6 - Total Loss: 7945.5740\n"
     ]
    },
    {
     "name": "stderr",
     "output_type": "stream",
     "text": [
      "                                                                       \r"
     ]
    },
    {
     "name": "stdout",
     "output_type": "stream",
     "text": [
      "Epoch 7 - Total Loss: 7586.8106\n"
     ]
    },
    {
     "name": "stderr",
     "output_type": "stream",
     "text": [
      "                                                                       \r"
     ]
    },
    {
     "name": "stdout",
     "output_type": "stream",
     "text": [
      "Epoch 8 - Total Loss: 7274.3715\n"
     ]
    },
    {
     "name": "stderr",
     "output_type": "stream",
     "text": [
      "                                                                       \r"
     ]
    },
    {
     "name": "stdout",
     "output_type": "stream",
     "text": [
      "Epoch 9 - Total Loss: 7000.3477\n"
     ]
    },
    {
     "name": "stderr",
     "output_type": "stream",
     "text": [
      "                                                                        \r"
     ]
    },
    {
     "name": "stdout",
     "output_type": "stream",
     "text": [
      "Epoch 10 - Total Loss: 6752.4823\n"
     ]
    },
    {
     "name": "stderr",
     "output_type": "stream",
     "text": [
      "                                                                        \r"
     ]
    },
    {
     "name": "stdout",
     "output_type": "stream",
     "text": [
      "Epoch 11 - Total Loss: 6535.1290\n"
     ]
    },
    {
     "name": "stderr",
     "output_type": "stream",
     "text": [
      "                                                                        \r"
     ]
    },
    {
     "name": "stdout",
     "output_type": "stream",
     "text": [
      "Epoch 12 - Total Loss: 6331.8116\n"
     ]
    },
    {
     "name": "stderr",
     "output_type": "stream",
     "text": [
      "                                                                        \r"
     ]
    },
    {
     "name": "stdout",
     "output_type": "stream",
     "text": [
      "Epoch 13 - Total Loss: 6147.9780\n"
     ]
    },
    {
     "name": "stderr",
     "output_type": "stream",
     "text": [
      "                                                                        \r"
     ]
    },
    {
     "name": "stdout",
     "output_type": "stream",
     "text": [
      "Epoch 14 - Total Loss: 5979.4386\n"
     ]
    },
    {
     "name": "stderr",
     "output_type": "stream",
     "text": [
      "                                                                        \r"
     ]
    },
    {
     "name": "stdout",
     "output_type": "stream",
     "text": [
      "Epoch 15 - Total Loss: 5827.1593\n"
     ]
    },
    {
     "name": "stderr",
     "output_type": "stream",
     "text": [
      "                                                                        \r"
     ]
    },
    {
     "name": "stdout",
     "output_type": "stream",
     "text": [
      "Epoch 16 - Total Loss: 5680.6494\n"
     ]
    },
    {
     "name": "stderr",
     "output_type": "stream",
     "text": [
      "                                                                        \r"
     ]
    },
    {
     "name": "stdout",
     "output_type": "stream",
     "text": [
      "Epoch 17 - Total Loss: 5545.9932\n"
     ]
    },
    {
     "name": "stderr",
     "output_type": "stream",
     "text": [
      "                                                                        \r"
     ]
    },
    {
     "name": "stdout",
     "output_type": "stream",
     "text": [
      "Epoch 18 - Total Loss: 5422.1001\n"
     ]
    },
    {
     "name": "stderr",
     "output_type": "stream",
     "text": [
      "                                                                        \r"
     ]
    },
    {
     "name": "stdout",
     "output_type": "stream",
     "text": [
      "Epoch 19 - Total Loss: 5303.5667\n"
     ]
    },
    {
     "name": "stderr",
     "output_type": "stream",
     "text": [
      "                                                                        \r"
     ]
    },
    {
     "name": "stdout",
     "output_type": "stream",
     "text": [
      "Epoch 20 - Total Loss: 5194.2645\n"
     ]
    },
    {
     "name": "stderr",
     "output_type": "stream",
     "text": [
      "                                                                        \r"
     ]
    },
    {
     "name": "stdout",
     "output_type": "stream",
     "text": [
      "Epoch 21 - Total Loss: 5089.9528\n"
     ]
    },
    {
     "name": "stderr",
     "output_type": "stream",
     "text": [
      "                                                                        \r"
     ]
    },
    {
     "name": "stdout",
     "output_type": "stream",
     "text": [
      "Epoch 22 - Total Loss: 4991.8034\n"
     ]
    },
    {
     "name": "stderr",
     "output_type": "stream",
     "text": [
      "                                                                        \r"
     ]
    },
    {
     "name": "stdout",
     "output_type": "stream",
     "text": [
      "Epoch 23 - Total Loss: 4899.5368\n"
     ]
    },
    {
     "name": "stderr",
     "output_type": "stream",
     "text": [
      "                                                                        \r"
     ]
    },
    {
     "name": "stdout",
     "output_type": "stream",
     "text": [
      "Epoch 24 - Total Loss: 4811.7374\n"
     ]
    },
    {
     "name": "stderr",
     "output_type": "stream",
     "text": [
      "                                                                        \r"
     ]
    },
    {
     "name": "stdout",
     "output_type": "stream",
     "text": [
      "Epoch 25 - Total Loss: 4727.9812\n"
     ]
    },
    {
     "name": "stderr",
     "output_type": "stream",
     "text": [
      "                                                                        \r"
     ]
    },
    {
     "name": "stdout",
     "output_type": "stream",
     "text": [
      "Epoch 26 - Total Loss: 4649.9095\n"
     ]
    },
    {
     "name": "stderr",
     "output_type": "stream",
     "text": [
      "                                                                        \r"
     ]
    },
    {
     "name": "stdout",
     "output_type": "stream",
     "text": [
      "Epoch 27 - Total Loss: 4572.7969\n"
     ]
    },
    {
     "name": "stderr",
     "output_type": "stream",
     "text": [
      "                                                                        \r"
     ]
    },
    {
     "name": "stdout",
     "output_type": "stream",
     "text": [
      "Epoch 28 - Total Loss: 4496.5549\n"
     ]
    },
    {
     "name": "stderr",
     "output_type": "stream",
     "text": [
      "                                                                        \r"
     ]
    },
    {
     "name": "stdout",
     "output_type": "stream",
     "text": [
      "Epoch 29 - Total Loss: 4426.0569\n"
     ]
    },
    {
     "name": "stderr",
     "output_type": "stream",
     "text": [
      "                                                                        \r"
     ]
    },
    {
     "name": "stdout",
     "output_type": "stream",
     "text": [
      "Epoch 30 - Total Loss: 4362.8466\n"
     ]
    }
   ],
   "source": [
    "EPOCHS = 30\n",
    "\n",
    "model = Transformer(\n",
    "    source_vocab_size=tokenizer.vocab_size,\n",
    "    target_vocab_size=tokenizer.vocab_size,\n",
    "    max_len=128,\n",
    "    embed_dim=512,\n",
    "    num_heads=8,\n",
    "    ffn_hidden_dim=2048,\n",
    "    N=6,\n",
    "    dropout=0.1\n",
    ").to(device)\n",
    "\n",
    "criterion = torch.nn.CrossEntropyLoss(ignore_index=pad_token_id)\n",
    "optimizer = torch.optim.Adam(model.parameters(), lr=1e-4)\n",
    "\n",
    "for epoch in range(EPOCHS):\n",
    "    model.train()\n",
    "    total_loss = 0\n",
    "    progress_bar = tqdm(train_loader, desc=f\"Epoch {epoch + 1}\", leave=False)\n",
    "\n",
    "    for batch in progress_bar:\n",
    "        src = batch['input_ids'].to(device)\n",
    "        tgt = batch['labels'].to(device)\n",
    "\n",
    "        tgt_input = tgt[:, :-1]\n",
    "        tgt_output = tgt[:, 1:]\n",
    "\n",
    "        src_mask = (src != pad_token_id).unsqueeze(1).unsqueeze(2)\n",
    "        L = tgt_input.size(1)\n",
    "        tgt_mask = torch.tril(torch.ones((L, L), device=device)).bool()\n",
    "        tgt_mask = tgt_mask.unsqueeze(0).unsqueeze(0)\n",
    "\n",
    "        logits = model(src, tgt_input, src_mask, tgt_mask, src_mask)\n",
    "        loss = criterion(logits.reshape(-1, logits.size(-1)), tgt_output.reshape(-1))\n",
    "\n",
    "        optimizer.zero_grad()\n",
    "        loss.backward()\n",
    "        optimizer.step()\n",
    "\n",
    "        total_loss += loss.item()\n",
    "        progress_bar.set_postfix(loss=loss.item())\n",
    "\n",
    "    print(f'Epoch {epoch + 1} - Total Loss: {total_loss:.4f}')\n",
    "    \n",
    "    if (epoch + 1) % 3 == 0:\n",
    "        torch.save(model.state_dict(), f'transformer_epoch{epoch+1}.pt')\n"
   ]
  },
  {
   "cell_type": "markdown",
   "metadata": {},
   "source": [
    "### Inference"
   ]
  },
  {
   "cell_type": "code",
   "execution_count": 10,
   "metadata": {},
   "outputs": [],
   "source": [
    "def inference(sentence: str) -> str:\n",
    "    \"\"\"Runs inference on English to Spanish translation (limited to 128 tokens)\n",
    "\n",
    "    Args:\n",
    "        sentence: English sentence\n",
    "\n",
    "    Returns:\n",
    "        output: translated sentence in Spanish\n",
    "    \"\"\"\n",
    "    model.eval()\n",
    "    enc = tokenizer(sentence, return_tensors='pt', padding='max_length', truncation=True, max_length=128)\n",
    "    src = enc['input_ids'].to(device)\n",
    "    src_mask = (src != pad_token_id).unsqueeze(1).unsqueeze(2)\n",
    "\n",
    "    start_token_id = tokenizer.bos_token_id if tokenizer.bos_token_id is not None else tokenizer.cls_token_id or pad_token_id\n",
    "    eos_token_id = tokenizer.eos_token_id if tokenizer.eos_token_id is not None else tokenizer.sep_token_id or pad_token_id\n",
    "\n",
    "    generated = torch.tensor([[start_token_id]], dtype=torch.long, device=device)\n",
    "\n",
    "    for _ in range(127):\n",
    "        tgt_mask = torch.tril(torch.ones((generated.size(1), generated.size(1)), device=device)).unsqueeze(0).unsqueeze(0).bool()\n",
    "        with torch.no_grad():\n",
    "            logits = model(src, generated, src_mask, tgt_mask, src_mask)\n",
    "        next_token = logits[:, -1].argmax(-1).unsqueeze(0)\n",
    "        generated = torch.cat([generated, next_token], dim=1)\n",
    "        if next_token.item() == eos_token_id:\n",
    "            break\n",
    "\n",
    "    output = tokenizer.decode(generated[0], skip_special_tokens=True, clean_up_tokenization_spaces=True)\n",
    "    return output\n"
   ]
  },
  {
   "cell_type": "code",
   "execution_count": 11,
   "metadata": {},
   "outputs": [
    {
     "name": "stdout",
     "output_type": "stream",
     "text": [
      "DIFFICULTY: Simple\n",
      "\t1: I like to eat apples and bananas.\n",
      "\t\t=> me gustan las comidas y la hambre.\n",
      "\t2: She is reading a book in the sun.\n",
      "\t\t=> leyó un libro en el sol.\n",
      "\t3: They play soccer every Sunday afternoon.\n",
      "\t\t=> aban los gritos de la mañana.\n",
      "DIFFICULTY: Medium\n",
      "\t1: We couldn't find the restaurant despite using the map.\n",
      "\t\t=> utábamos el diván, pese a la tragedia.\n",
      "\t2: If it rains tomorrow, we'll cancel the hike.\n",
      "\t\t=> che, si no llovíamos aprender la tumba.\n",
      "\t3: The teacher explained the problem in a different way.\n",
      "\t\t=> tó el profesor de camino, lo que debían modo.\n",
      "DIFFICULTY: Complex\n",
      "\t1: Although the train was late, we still made it on time.\n",
      "\t\t=> , el tren nos llevaba, todavía mucho tiempo.\n",
      "\t2: The decision, which had been debated for months, was finally announced.\n",
      "\t\t=> ía la decisión, que había sido anunciado por meses, fue anunciado.\n",
      "\t3: He acted as though nothing had happened, despite knowing the consequences.\n",
      "\t\t=> to, no había nada, no había nada, a pesar de lo que sabía, a pesar de la consecuencia.\n"
     ]
    }
   ],
   "source": [
    "example_sentences = [[\"I like to eat apples and bananas.\",\n",
    "                      \"She is reading a book in the sun.\",\n",
    "                      \"They play soccer every Sunday afternoon.\"],\n",
    "                     [\"We couldn't find the restaurant despite using the map.\",\n",
    "                      \"If it rains tomorrow, we'll cancel the hike.\",\n",
    "                      \"The teacher explained the problem in a different way.\"],\n",
    "                     [\"Although the train was late, we still made it on time.\",\n",
    "                      \"The decision, which had been debated for months, was finally announced.\",\n",
    "                      \"He acted as though nothing had happened, despite knowing the consequences.\"]]\n",
    "\n",
    "levels_to_labels = ['Simple',\n",
    "                    'Medium',\n",
    "                    'Complex']\n",
    "for l, level in enumerate(example_sentences):\n",
    "    print(f'DIFFICULTY: {levels_to_labels[l]}')\n",
    "    for s, sentence in enumerate(level):\n",
    "        print(f'\\t{s + 1}: {sentence}')\n",
    "        print(f'\\t\\t=> {inference(sentence)}')"
   ]
  }
 ],
 "metadata": {
  "kernelspec": {
   "display_name": "base",
   "language": "python",
   "name": "python3"
  },
  "language_info": {
   "codemirror_mode": {
    "name": "ipython",
    "version": 3
   },
   "file_extension": ".py",
   "mimetype": "text/x-python",
   "name": "python",
   "nbconvert_exporter": "python",
   "pygments_lexer": "ipython3",
   "version": "3.12.9"
  }
 },
 "nbformat": 4,
 "nbformat_minor": 2
}
